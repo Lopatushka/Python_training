{
 "cells": [
  {
   "cell_type": "code",
   "execution_count": 113,
   "metadata": {},
   "outputs": [
    {
     "name": "stdout",
     "output_type": "stream",
     "text": [
      "['byyybypyb', 'ccpd', 'ccaz', 'zy', 'ypx', 'zbtzuyxt', 'zy', 'zxcz', 'zaz', 'p', 'zaz', 'tbutcxzxz', 'ypx', 'zaz', 'c', 'p', 'ucaz', 'yzapu', 'acxua', 'bdzbbada', 'zy', 'ccaz', 'zaz', 'zaz', 'zy', 'dxbp', 'bdzbbada', 'zctppduda', 'ccpd', 'txxbydptc', 'ccpd', 'd', 'aubpc', 'bztyc', 'xptpytd', 'txxbydptc', 'ucaz', 'yttuz', 'yay', 'xx', 'ubuyzdazx', 'zuzyyacc', 'xap', 'zy', 'bpycyzayd', 'xptpytd', 'zctppduda', 'ccaz', 'uztpu', 'tttyaypxy', 'zctppduda', 'd', 'pupytxd', 'dacuy', 'yyutucbx', 'pupytxd', 'ubxt', 'txtbxddu', 'dzdut', 'dxpytyxz', 'tby', 'ztcxpd', 'ubxt', 'adp', 'aac', 'pcpxba', 'yba', 'pbazapxa', 'zx', 'zx', 'zx', 'auzbx', 'auzbx', 'ua', 'paxudpy', 'zx', 'tpy', 'cpctbc', 'tdbcaz', 'ddbxat', 'zx', 't', 'tdbcaz', 'ddbxat', 'zducyxzbc', 'zx', 'cuaaxcc', 'z', 'tdbcaz', 'zzdcxu', 'zx', 'z', 'xytaubpu', 'tdayzbbyp', 'tdayzbbyp', 'tdayzbbyp', 'tdayzbbyp', 'cbbtucc', 'c', 'uubxb', 'auzpzzdp', 'zdupyppu', 'pttau', 'dtd', 'az', 'ud', 'zup', 'tauzabxpp', 'tauzabxpp', 'xxat', 'xxat', 'td', 'baypc', 'tauzabxpp', 'btycd', 'tauzabxpp', 'baypc', 'tauzabxpp', 'yddxy', 'yddxy', 'yddxy', 'baypc', 'za', 'yuddta', 'tyuptadx', 'zxcycxy', 'xyzp', 'cuxdydc', 'uudtduzx', 'ycx', 'cu', 'xbpazpu', 'tpyxa', 'xpyb', 'pu', 'ycx', 'atyctztdt', 'x', 'x', 'xyytczp', 't', 'zxcycxy', 'payzu', 'au', 'cxtapatpa', 'xpyb', 'x', 'dzbccbxu', 'pu', 'bcbxxxbcc', 'axy', 'ttybyay', 'ypbcp', 'xbpazpu', 'zxcycxy', 'x', 'yabac', 'd', 'bcbxxxbcc', 'bcbxxxbcc', 'ttybyay', 'xxxdxpcc', 'pzupyaux', 'ubzdxxd', 'dc', 'a', 'bxabdytpa', 'ytu', 'pcapbtdzt', 'd', 'xyytczp', 'pbdxtz', 'xyytczp', 'ubzdxxd', 'xyazdzuz', 'acybyya', 'cxcpuu', 'bcbxzdc']\n"
     ]
    }
   ],
   "source": [
    "with open('dataset_3363_3.txt') as f:\n",
    "    text = f.read().lower().strip().split()\n",
    "    print(text)"
   ]
  },
  {
   "cell_type": "code",
   "execution_count": 114,
   "metadata": {},
   "outputs": [
    {
     "data": {
      "text/plain": [
       "4"
      ]
     },
     "execution_count": 114,
     "metadata": {},
     "output_type": "execute_result"
    }
   ],
   "source": [
    "text.count('d')"
   ]
  },
  {
   "cell_type": "code",
   "execution_count": null,
   "metadata": {},
   "outputs": [],
   "source": []
  }
 ],
 "metadata": {
  "kernelspec": {
   "display_name": "Python 3",
   "language": "python",
   "name": "python3"
  },
  "language_info": {
   "codemirror_mode": {
    "name": "ipython",
    "version": 3
   },
   "file_extension": ".py",
   "mimetype": "text/x-python",
   "name": "python",
   "nbconvert_exporter": "python",
   "pygments_lexer": "ipython3",
   "version": "3.7.3"
  }
 },
 "nbformat": 4,
 "nbformat_minor": 2
}
