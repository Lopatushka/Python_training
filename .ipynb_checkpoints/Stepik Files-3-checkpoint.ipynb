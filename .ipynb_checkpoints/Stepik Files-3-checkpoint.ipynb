{
 "cells": [
  {
   "cell_type": "code",
   "execution_count": 99,
   "metadata": {},
   "outputs": [
    {
     "name": "stdout",
     "output_type": "stream",
     "text": [
      "t : 7\n"
     ]
    }
   ],
   "source": [
    "with open('dataset_3363_3.txt') as f:\n",
    "    a = f.read().lower().strip().split()\n",
    "    \n",
    "    from collections import Counter\n",
    "    dict = Counter(a)\n",
    "    max_val = max(dict.values())\n",
    "    final_dict = {k:v for k, v in dict.items() if v == max_val}\n",
    "\n",
    "    for key in final_dict:\n",
    "        print(key, final_dict[key])"
   ]
  },
  {
   "cell_type": "code",
   "execution_count": null,
   "metadata": {},
   "outputs": [],
   "source": []
  }
 ],
 "metadata": {
  "kernelspec": {
   "display_name": "Python 3",
   "language": "python",
   "name": "python3"
  },
  "language_info": {
   "codemirror_mode": {
    "name": "ipython",
    "version": 3
   },
   "file_extension": ".py",
   "mimetype": "text/x-python",
   "name": "python",
   "nbconvert_exporter": "python",
   "pygments_lexer": "ipython3",
   "version": "3.7.3"
  }
 },
 "nbformat": 4,
 "nbformat_minor": 2
}
